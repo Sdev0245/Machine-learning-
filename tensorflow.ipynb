{
 "cells": [
  {
   "cell_type": "code",
   "execution_count": 3,
   "metadata": {},
   "outputs": [],
   "source": [
    "# Deven Sharma \n",
    "import tensorflow as tf"
   ]
  },
  {
   "cell_type": "code",
   "execution_count": 27,
   "metadata": {},
   "outputs": [
    {
     "data": {
      "text/plain": [
       "12"
      ]
     },
     "execution_count": 27,
     "metadata": {},
     "output_type": "execute_result"
    }
   ],
   "source": [
    "a =tf.constant(2)\n",
    "a # tconst 2:0 means how many times a consant is created \n",
    "# doesnt represnt value \n",
    "b=tf.constant(10)\n",
    "c=a + b # will not do addition like this \n",
    "# so in order to perform any operation we need to have tensor session\n",
    "sess =tf.Session()\n",
    "sess.run(c)"
   ]
  },
  {
   "cell_type": "code",
   "execution_count": 38,
   "metadata": {},
   "outputs": [
    {
     "data": {
      "text/plain": [
       "12"
      ]
     },
     "execution_count": 38,
     "metadata": {},
     "output_type": "execute_result"
    }
   ],
   "source": [
    "# we don't need to write session again and again\n",
    "\n",
    "session = tf.Session()\n",
    "session.run(c)"
   ]
  },
  {
   "cell_type": "code",
   "execution_count": 51,
   "metadata": {},
   "outputs": [
    {
     "data": {
      "text/plain": [
       "30"
      ]
     },
     "execution_count": 51,
     "metadata": {},
     "output_type": "execute_result"
    }
   ],
   "source": [
    "# understanding the concept of variables \n",
    "# some data needs to be changed\n",
    "var1 = tf.Variable(10)\n",
    "var2 =tf.Variable(20)\n",
    "session = tf.Session()\n",
    "session.run(tf.global_variables_initializer()) # initialize with the session\n",
    "sum1 =tf.add(var1,var2)\n",
    "session.run(sum1) # now what the problem with the tensor flow is that we need to explicity define\n",
    "# that we are using the varibles"
   ]
  },
  {
   "cell_type": "code",
   "execution_count": 55,
   "metadata": {},
   "outputs": [
    {
     "data": {
      "text/plain": [
       "1022"
      ]
     },
     "execution_count": 55,
     "metadata": {},
     "output_type": "execute_result"
    }
   ],
   "source": [
    "# how to assign the value \n",
    "assign = var1.assign(1002)\n",
    "session.run(assign)\n",
    "session.run(sum1)\n",
    "\n"
   ]
  },
  {
   "cell_type": "code",
   "execution_count": 64,
   "metadata": {},
   "outputs": [
    {
     "data": {
      "text/plain": [
       "100"
      ]
     },
     "execution_count": 64,
     "metadata": {},
     "output_type": "execute_result"
    }
   ],
   "source": [
    "# new type of way to store data using placeholders which helps to assign the values dynamically\n",
    "x = tf.placeholder('int32')\n",
    "y= x*tf.constant(10)\n",
    "\n",
    "session.run(y,feed_dict = {x:10})  # pass the feed dictionary that specify the value of the placholder\n",
    "# and the comman that need to be run"
   ]
  },
  {
   "cell_type": "code",
   "execution_count": 90,
   "metadata": {},
   "outputs": [
    {
     "name": "stdout",
     "output_type": "stream",
     "text": [
      "Extracting MNIST_data/train-images-idx3-ubyte.gz\n",
      "Extracting MNIST_data/train-labels-idx1-ubyte.gz\n",
      "Extracting MNIST_data/t10k-images-idx3-ubyte.gz\n",
      "Extracting MNIST_data/t10k-labels-idx1-ubyte.gz\n",
      "(55000, 10)\n"
     ]
    },
    {
     "data": {
      "text/plain": [
       "array([[0., 0., 0., ..., 1., 0., 0.],\n",
       "       [0., 0., 0., ..., 0., 0., 0.],\n",
       "       [0., 0., 0., ..., 0., 0., 0.],\n",
       "       ...,\n",
       "       [0., 0., 0., ..., 0., 0., 0.],\n",
       "       [0., 0., 0., ..., 0., 0., 0.],\n",
       "       [0., 0., 0., ..., 0., 1., 0.]])"
      ]
     },
     "execution_count": 90,
     "metadata": {},
     "output_type": "execute_result"
    }
   ],
   "source": [
    "# loading the dataset \n",
    "# in the tensorflow\n",
    "\n",
    "from tensorflow.examples.tutorials.mnist import input_data\n",
    "\n",
    "mnist =input_data.read_data_sets('MNIST_data/',one_hot =\"True\")\n",
    "mnist.train.images.shape\n",
    "print(mnist.train.labels.shape)\n",
    "mnist.train.labels"
   ]
  },
  {
   "cell_type": "code",
   "execution_count": 111,
   "metadata": {},
   "outputs": [],
   "source": [
    "import numpy as np\n",
    "\n",
    "first_image =  mnist.train.images[10]\n",
    "new_image= first_image.reshape((28,28))\n",
    "new_image = np.array(new_image,dtype ='float')"
   ]
  },
  {
   "cell_type": "code",
   "execution_count": 113,
   "metadata": {},
   "outputs": [
    {
     "data": {
      "text/plain": [
       "<matplotlib.image.AxesImage at 0x7f5548c66f60>"
      ]
     },
     "execution_count": 113,
     "metadata": {},
     "output_type": "execute_result"
    },
    {
     "data": {
      "image/png": "[encoded data removed]",
      "text/plain": [
       "<Figure size 432x288 with 1 Axes>"
      ]
     },
     "metadata": {
      "needs_background": "light"
     },
     "output_type": "display_data"
    }
   ],
   "source": [
    "import matplotlib.pyplot as plt\n",
    "plt.imshow(new_image)"
   ]
  },
  {
   "cell_type": "code",
   "execution_count": 116,
   "metadata": {},
   "outputs": [
    {
     "name": "stdout",
     "output_type": "stream",
     "text": [
      "[-1.3838383]\n"
     ]
    }
   ],
   "source": [
    "with tf.Session() as sess:\n",
    "    print(tf.random_normal([1]).eval())\n",
    "    # so one function is random_normal([n,m]) it takes n*m matrix"
   ]
  },
  {
   "cell_type": "code",
   "execution_count": 119,
   "metadata": {},
   "outputs": [
    {
     "data": {
      "text/plain": [
       "(55000, 784)"
      ]
     },
     "execution_count": 119,
     "metadata": {},
     "output_type": "execute_result"
    }
   ],
   "source": [
    "mnist.train.images.shape"
   ]
  },
  {
   "cell_type": "code",
   "execution_count": 168,
   "metadata": {},
   "outputs": [],
   "source": [
    "n_input = 784\n",
    "hidden1 =256\n",
    "hidden2 =256\n",
    "bias1 =256\n",
    "bias2 =10\n",
    "classes = 10"
   ]
  },
  {
   "cell_type": "code",
   "execution_count": 160,
   "metadata": {},
   "outputs": [],
   "source": [
    "weights ={\n",
    "    'h1':tf.Variable(tf.random_normal([n_input,hidden1])),\n",
    "    'h2':tf.Variable(tf.random_normal([hidden1,hidden2])),\n",
    "    'out' :tf.Variable(tf.random_normal([hidden2,classes])),\n",
    "}    # initialzed the weights "
   ]
  },
  {
   "cell_type": "code",
   "execution_count": 296,
   "metadata": {},
   "outputs": [],
   "source": [
    "biases  = {\n",
    "    'h1' :tf.Variable(tf.random_normal([hidden1])),\n",
    "    'h2':tf.Variable(tf.random_normal([hidden2])),\n",
    "     'out':tf.Variable(tf.random_normal([classes]))\n",
    "} #initilized the biases "
   ]
  },
  {
   "cell_type": "code",
   "execution_count": null,
   "metadata": {},
   "outputs": [],
   "source": []
  },
  {
   "cell_type": "code",
   "execution_count": 297,
   "metadata": {},
   "outputs": [],
   "source": [
    "def forward_pass(x,weights,biases):\n",
    "   \n",
    "    layer1_inp = tf.add(tf.matmul(x,weights['h1']),biases['h1'])\n",
    "   \n",
    "    layer1_op = tf.nn.relu(layer1_inp) # relu is a neural networks activation function\n",
    "    layer2_inp = tf.add(tf.matmul(layer1_op,weights['h2']),biases['h2'])\n",
    "    layer2_op = tf.nn.relu(layer2_inp)\n",
    "     \n",
    "    act_op =  tf.add(tf.matmul(layer2_op,weights['out']),biases['out'])\n",
    "    \n",
    "    return act_op\n",
    "    "
   ]
  },
  {
   "cell_type": "code",
   "execution_count": 334,
   "metadata": {},
   "outputs": [],
   "source": [
    "x =tf.placeholder('float',[None,n_input])\n",
    "y =tf.placeholder('int32',[None,classes])\n",
    "\n",
    "session = tf.Session()\n",
    "# session.run(tf.global_variables_initializer())\n",
    "pred = forward_pass(x,weights,biases)\n",
    "cost = tf.reduce_mean(tf.nn.softmax_cross_entropy_with_logits(logits =pred,labels=y)) # this is cost function\n",
    "# how to use the inbuilt optimizer let's see\n",
    "tf.train\n",
    "prediction  =tf.argmax(pred,1)\n",
    "label = tf.argmax(y,1)\n",
    "transformed =tf.equal(prediction,label)\n",
    "# pred1,temp,actual = session.run([prediction,transformed,label],feed_dict={x:mnist.train.images,y:mnist.train.labels})\n",
    "\n",
    " "
   ]
  },
  {
   "cell_type": "code",
   "execution_count": 340,
   "metadata": {},
   "outputs": [
    {
     "name": "stdout",
     "output_type": "stream",
     "text": [
      "[2920.575]\n",
      "[2920.575]\n"
     ]
    }
   ],
   "source": [
    "# tf we need to find the cost we can use the cross entropy\n",
    "# the cross entropy function takes two things one is logit =prediction and othe is label\n",
    "# firstly using the argmax for finding the max value of the specific index \n",
    "\n",
    "# here we will be using the cross entropy \n",
    "# let use an optimizer\n",
    "optimizer = tf.train.AdamOptimizer(learning_rate =0.01)\n",
    "optimize = optimizer.minimize(cost)\n",
    "session.run(tf.global_variables_initializer())\n",
    "for i in range(2):\n",
    "   print( session.run([cost],feed_dict ={x:mnist.train.images,y:mnist.train.labels}))\n",
    "   \n",
    "    # one more thing can be done \n",
    "# batch gradient can be applied as well"
   ]
  },
  {
   "cell_type": "code",
   "execution_count": null,
   "metadata": {},
   "outputs": [],
   "source": []
  },
  {
   "cell_type": "code",
   "execution_count": 341,
   "metadata": {},
   "outputs": [],
   "source": [
    "# so how does an optimizer work actually what happend that the optimizer find out the weights whsose value\n",
    "# depend on the cost then it only changes those weights \n"
   ]
  },
  {
   "cell_type": "code",
   "execution_count": 343,
   "metadata": {},
   "outputs": [],
   "source": [
    "# working  with the keras\n",
    "# things to do \n",
    "# create a model\n",
    "# define architcture =====>\n",
    "                            #layers =>units =>activation_function=>compiling\n",
    "    \n",
    "    # we can create a sequential models \n",
    "    \n",
    "    # we can have multiple input and output model\n",
    "    # we can have functional(APi) model\n",
    "    "
   ]
  },
  {
   "cell_type": "code",
   "execution_count": 365,
   "metadata": {},
   "outputs": [],
   "source": [
    "from keras.models import Sequential\n",
    "from keras.layers import Activation, Dense"
   ]
  },
  {
   "cell_type": "code",
   "execution_count": 374,
   "metadata": {},
   "outputs": [],
   "source": [
    "model =Sequential()\n",
    "model.add(Dense(30,input_dim = 30,activation ='relu'))\n",
    "model.add(Dense(30,activation ='relu'))\n",
    "model.add(Dense(1,activation ='sigmoid'))\n"
   ]
  },
  {
   "cell_type": "markdown",
   "metadata": {},
   "source": [
    "model.compile(optimizer = 'adam',loss ='binary_crossentropy',metrics =['accuracy'])\n",
    "from sklearn import datasets\n",
    "\n",
    "data = datasets.load_breast_cancer()\n",
    "\n",
    "from sklearn.model_selection import train_test_split\n",
    "\n",
    "x_train , x_test ,y_train, y_test  = train_test_split(data.data,data.target ,test_size = 0.3,random_state =0)"
   ]
  },
  {
   "cell_type": "markdown",
   "metadata": {},
   "source": [
    "model.compile(optimizer = 'adam',loss ='binary_crossentropy',metrics =['accuracy'])  # loss is differnct for different problems\n",
    "# optimizer tries to optimize the cost\n",
    "from sklearn import datasets\n",
    "\n",
    "data = datasets.load_breast_cancer()\n",
    "\n",
    "from sklearn.model_selection import train_test_split\n",
    "from sklearn.preprocessing import StandardScaler\n",
    "st =StandardScaler()\n",
    "x_train , x_test ,y_train, y_test = train_test_split(data.data,data.target ,test_size = 0.3,random_state =0)\n",
    "x_train = st.fit_transform(x_train)\n",
    "x_test= st.fit_transform(x_test)\n",
    "model.fit(x_train,y_train,epochs =20,batch_size =110)"
   ]
  },
  {
   "cell_type": "code",
   "execution_count": 426,
   "metadata": {},
   "outputs": [
    {
     "data": {
      "text/plain": [
       "array([[0.0000000e+00],\n",
       "       [9.8561203e-01],\n",
       "       [1.0000000e+00],\n",
       "       [9.9999899e-01],\n",
       "       [1.0000000e+00],\n",
       "       [1.0000000e+00],\n",
       "       [1.0000000e+00],\n",
       "       [1.0000000e+00],\n",
       "       [1.0000000e+00],\n",
       "       [1.0000000e+00],\n",
       "       [1.1615634e-02],\n",
       "       [9.9965334e-01],\n",
       "       [1.0000000e+00],\n",
       "       [2.1324158e-03],\n",
       "       [3.9646029e-04],\n",
       "       [0.0000000e+00],\n",
       "       [1.0000000e+00],\n",
       "       [0.0000000e+00],\n",
       "       [0.0000000e+00],\n",
       "       [0.0000000e+00],\n",
       "       [0.0000000e+00],\n",
       "       [0.0000000e+00],\n",
       "       [1.0000000e+00],\n",
       "       [1.0000000e+00],\n",
       "       [0.0000000e+00],\n",
       "       [1.0000000e+00],\n",
       "       [1.0000000e+00],\n",
       "       [0.0000000e+00],\n",
       "       [1.0000000e+00],\n",
       "       [0.0000000e+00],\n",
       "       [1.0000000e+00],\n",
       "       [0.0000000e+00],\n",
       "       [9.9985224e-01],\n",
       "       [0.0000000e+00],\n",
       "       [1.0000000e+00],\n",
       "       [0.0000000e+00],\n",
       "       [9.9995732e-01],\n",
       "       [0.0000000e+00],\n",
       "       [9.9999976e-01],\n",
       "       [0.0000000e+00],\n",
       "       [4.1723251e-06],\n",
       "       [1.0000000e+00],\n",
       "       [2.0325184e-05],\n",
       "       [1.0000000e+00],\n",
       "       [9.9999994e-01],\n",
       "       [0.0000000e+00],\n",
       "       [1.0000000e+00],\n",
       "       [9.9985844e-01],\n",
       "       [1.0000000e+00],\n",
       "       [0.0000000e+00],\n",
       "       [0.0000000e+00],\n",
       "       [3.1292439e-06],\n",
       "       [0.0000000e+00],\n",
       "       [1.0000000e+00],\n",
       "       [1.0000000e+00],\n",
       "       [1.0000000e+00],\n",
       "       [1.0000000e+00],\n",
       "       [9.9999964e-01],\n",
       "       [9.9996424e-01],\n",
       "       [0.0000000e+00],\n",
       "       [0.0000000e+00],\n",
       "       [0.0000000e+00],\n",
       "       [1.0000000e+00],\n",
       "       [1.0000000e+00],\n",
       "       [0.0000000e+00],\n",
       "       [9.2559659e-01],\n",
       "       [0.0000000e+00],\n",
       "       [0.0000000e+00],\n",
       "       [0.0000000e+00],\n",
       "       [1.0000000e+00],\n",
       "       [5.4425657e-02],\n",
       "       [0.0000000e+00],\n",
       "       [1.0000000e+00],\n",
       "       [1.3699830e-03],\n",
       "       [0.0000000e+00],\n",
       "       [9.9940014e-01],\n",
       "       [1.0000000e+00],\n",
       "       [1.0000000e+00],\n",
       "       [1.0000000e+00],\n",
       "       [1.0000000e+00],\n",
       "       [0.0000000e+00],\n",
       "       [0.0000000e+00],\n",
       "       [0.0000000e+00],\n",
       "       [1.0000000e+00],\n",
       "       [0.0000000e+00],\n",
       "       [1.0000000e+00],\n",
       "       [1.0000000e+00],\n",
       "       [1.0000000e+00],\n",
       "       [0.0000000e+00],\n",
       "       [0.0000000e+00],\n",
       "       [1.0000000e+00],\n",
       "       [8.7140501e-03],\n",
       "       [3.9160579e-02],\n",
       "       [0.0000000e+00],\n",
       "       [1.0000000e+00],\n",
       "       [1.0000000e+00],\n",
       "       [0.0000000e+00],\n",
       "       [1.0000000e+00],\n",
       "       [9.9999988e-01],\n",
       "       [1.0000000e+00],\n",
       "       [1.0000000e+00],\n",
       "       [1.0000000e+00],\n",
       "       [9.9999976e-01],\n",
       "       [9.9975473e-01],\n",
       "       [0.0000000e+00],\n",
       "       [1.0000000e+00],\n",
       "       [0.0000000e+00],\n",
       "       [9.8114449e-01],\n",
       "       [4.3252075e-01],\n",
       "       [1.1572242e-03],\n",
       "       [9.9999833e-01],\n",
       "       [0.0000000e+00],\n",
       "       [0.0000000e+00],\n",
       "       [8.9311779e-01],\n",
       "       [1.0000000e+00],\n",
       "       [9.9999243e-01],\n",
       "       [9.9979699e-01],\n",
       "       [9.9999970e-01],\n",
       "       [9.9970078e-01],\n",
       "       [1.0000000e+00],\n",
       "       [9.9998927e-01],\n",
       "       [1.0000000e+00],\n",
       "       [9.9998891e-01],\n",
       "       [1.0000000e+00],\n",
       "       [0.0000000e+00],\n",
       "       [9.9995315e-01],\n",
       "       [1.9282171e-01],\n",
       "       [1.0000000e+00],\n",
       "       [1.0000000e+00],\n",
       "       [1.0000000e+00],\n",
       "       [0.0000000e+00],\n",
       "       [1.0000000e+00],\n",
       "       [1.0000000e+00],\n",
       "       [9.9989831e-01],\n",
       "       [1.0000000e+00],\n",
       "       [1.0000000e+00],\n",
       "       [8.2936382e-01],\n",
       "       [1.9582063e-02],\n",
       "       [0.0000000e+00],\n",
       "       [1.0000000e+00],\n",
       "       [1.0000000e+00],\n",
       "       [1.0000000e+00],\n",
       "       [0.0000000e+00],\n",
       "       [1.0000000e+00],\n",
       "       [1.0000000e+00],\n",
       "       [0.0000000e+00],\n",
       "       [9.9999034e-01],\n",
       "       [5.0663948e-07],\n",
       "       [1.0000000e+00],\n",
       "       [9.9999952e-01],\n",
       "       [1.0000000e+00],\n",
       "       [1.0000000e+00],\n",
       "       [9.9999988e-01],\n",
       "       [2.9451019e-01],\n",
       "       [1.0000000e+00],\n",
       "       [0.0000000e+00],\n",
       "       [9.9998653e-01],\n",
       "       [1.1920929e-07],\n",
       "       [1.0000000e+00],\n",
       "       [0.0000000e+00],\n",
       "       [0.0000000e+00],\n",
       "       [1.0000000e+00],\n",
       "       [1.0000000e+00],\n",
       "       [0.0000000e+00],\n",
       "       [1.0000000e+00],\n",
       "       [0.0000000e+00],\n",
       "       [0.0000000e+00],\n",
       "       [0.0000000e+00],\n",
       "       [9.9926430e-01],\n",
       "       [9.9999940e-01],\n",
       "       [1.0000000e+00]], dtype=float32)"
      ]
     },
     "execution_count": 426,
     "metadata": {},
     "output_type": "execute_result"
    }
   ],
   "source": [
    "model.predict(x_test)"
   ]
  }
 ],
 "metadata": {
  "kernelspec": {
   "display_name": "Python 3",
   "language": "python",
   "name": "python3"
  },
  "language_info": {
   "codemirror_mode": {
    "name": "ipython",
    "version": 3
   },
   "file_extension": ".py",
   "mimetype": "text/x-python",
   "name": "python",
   "nbconvert_exporter": "python",
   "pygments_lexer": "ipython3",
   "version": "3.6.8"
  }
 },
 "nbformat": 4,
 "nbformat_minor": 2
}
