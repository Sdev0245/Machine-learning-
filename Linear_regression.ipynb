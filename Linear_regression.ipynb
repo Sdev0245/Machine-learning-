{
 "cells": [
  {
   "cell_type": "code",
   "execution_count": 3,
   "metadata": {},
   "outputs": [
    {
     "data": {
      "text/plain": [
       "(100, 2)"
      ]
     },
     "execution_count": 3,
     "metadata": {},
     "output_type": "execute_result"
    }
   ],
   "source": [
    "# y =mx+c for linear regression\n",
    "\n",
    "import numpy as np\n",
    "\n",
    "data =np.loadtxt('/home/deven/Music/data.csv',delimiter =',')\n",
    "data.shape"
   ]
  },
  {
   "cell_type": "code",
   "execution_count": 4,
   "metadata": {},
   "outputs": [],
   "source": [
    "x =data[:,0].reshape(-1,1)\n",
    "y =data[:,1]\n",
    "\n",
    "\n",
    "from sklearn.model_selection import train_test_split\n",
    "\n",
    "x_train,x_test,y_train,y_test = train_test_split(x,y)"
   ]
  },
  {
   "cell_type": "code",
   "execution_count": 5,
   "metadata": {},
   "outputs": [
    {
     "data": {
      "text/plain": [
       "array([[76.50237054],\n",
       "       [73.71982903],\n",
       "       [78.24602286],\n",
       "       [86.37421415],\n",
       "       [93.81364545],\n",
       "       [72.33484396],\n",
       "       [51.6277932 ],\n",
       "       [73.59176732],\n",
       "       [82.27663726],\n",
       "       [56.98006925],\n",
       "       [81.48418331],\n",
       "       [58.67847144],\n",
       "       [50.69272495],\n",
       "       [87.01702519],\n",
       "       [72.28720558],\n",
       "       [86.9796976 ],\n",
       "       [58.4953    ],\n",
       "       [65.20570677],\n",
       "       [73.38434553],\n",
       "       [66.04477455],\n",
       "       [81.05310723],\n",
       "       [73.44140262],\n",
       "       [66.11524108],\n",
       "       [83.3086525 ],\n",
       "       [68.33977417]])"
      ]
     },
     "execution_count": 5,
     "metadata": {},
     "output_type": "execute_result"
    }
   ],
   "source": [
    "from sklearn.linear_model import LinearRegression\n",
    "alg =LinearRegression()\n",
    "alg.fit(x_train,y_train)\n",
    "\n",
    "slope = alg.coef_[0]\n",
    "intercept = alg.intercept_\n",
    "\n",
    "y_predicted= slope*x_test+intercept\n",
    "\n",
    "y_predicted"
   ]
  },
  {
   "cell_type": "code",
   "execution_count": 13,
   "metadata": {
    "scrolled": true
   },
   "outputs": [
    {
     "data": {
      "text/plain": [
       "<matplotlib.collections.PathCollection at 0x7f76e9613f28>"
      ]
     },
     "execution_count": 13,
     "metadata": {},
     "output_type": "execute_result"
    },
    {
     "data": {
      "image/png": "[encoded data removed]",
      "text/plain": [
       "<Figure size 432x288 with 1 Axes>"
      ]
     },
     "metadata": {
      "needs_background": "light"
     },
     "output_type": "display_data"
    }
   ],
   "source": [
    "import matplotlib.pyplot as plt\n",
    "x = np.arange(30,70,0.1)\n",
    "\n",
    "y = slope*x+intercept\n",
    "\n",
    "plt.plot(x,y,\"red\")\n",
    "plt.scatter(x_train,y_train)"
   ]
  },
  {
   "cell_type": "markdown",
   "metadata": {},
   "source": [
    "##### !sudo pip install --upgrade pip"
   ]
  }
 ],
 "metadata": {
  "kernelspec": {
   "display_name": "Python 3",
   "language": "python",
   "name": "python3"
  },
  "language_info": {
   "codemirror_mode": {
    "name": "ipython",
    "version": 3
   },
   "file_extension": ".py",
   "mimetype": "text/x-python",
   "name": "python",
   "nbconvert_exporter": "python",
   "pygments_lexer": "ipython3",
   "version": "3.6.8"
  }
 },
 "nbformat": 4,
 "nbformat_minor": 2
}
