{
 "cells": [
  {
   "cell_type": "code",
   "execution_count": 4,
   "metadata": {},
   "outputs": [
    {
     "name": "stdout",
     "output_type": "stream",
     "text": [
      "abc\n",
      "a\n"
     ]
    }
   ],
   "source": [
    "# strings and input \n",
    "a = \"abc\"\n",
    "print(a)\n",
    "print(a[0])"
   ]
  },
  {
   "cell_type": "code",
   "execution_count": 17,
   "metadata": {},
   "outputs": [
    {
     "name": "stdout",
     "output_type": "stream",
     "text": [
      " ABC \n",
      " abc \n",
      "Abc\n",
      "False\n",
      "True\n"
     ]
    }
   ],
   "source": [
    "a =' Abc '\n",
    "print(a.upper())\n",
    "print(a.lower())\n",
    "\n",
    "print(a.strip()) # strip is basically used to remove the white spaces \n",
    "print(a.isalpha())\n",
    "a =a.strip()\n",
    "\n",
    "print(a.isalpha())\n",
    "\n"
   ]
  },
  {
   "cell_type": "code",
   "execution_count": 21,
   "metadata": {},
   "outputs": [
    {
     "name": "stdout",
     "output_type": "stream",
     "text": [
      "10\n",
      "<class 'str'>\n"
     ]
    }
   ],
   "source": [
    "# user input\n",
    "a =input()\n",
    "\n",
    "print(type(a))#by default the user input is string "
   ]
  },
  {
   "cell_type": "code",
   "execution_count": 25,
   "metadata": {},
   "outputs": [
    {
     "name": "stdout",
     "output_type": "stream",
     "text": [
      "10\n",
      "<class 'int'>\n"
     ]
    }
   ],
   "source": [
    "a =int(input())\n",
    "print(type(a))"
   ]
  },
  {
   "cell_type": "code",
   "execution_count": 31,
   "metadata": {},
   "outputs": [
    {
     "name": "stdout",
     "output_type": "stream",
     "text": [
      "a\n",
      "a\n",
      "bc\n",
      "ef\n"
     ]
    }
   ],
   "source": [
    "# slicing of the string as well as array \n",
    "# important as well as different from how things work in any other langauae \n",
    "s  = \"abc\"\n",
    "print(s[0])\n",
    "print(s[-3])\n",
    "\n",
    "\n",
    "# slicing is basically if you want to get the substring of the string \n",
    "# from start index to end_index -1\n",
    "\n",
    "\n",
    "s = \"Abcdefg\"\n",
    "\n",
    "print(s[1:3])\n",
    "\n",
    "print(s[-3:-1])"
   ]
  },
  {
   "cell_type": "code",
   "execution_count": 40,
   "metadata": {},
   "outputs": [
    {
     "name": "stdout",
     "output_type": "stream",
     "text": [
      "<class 'tuple'>\n",
      "(1, 2, 3, 5, 6, 7)\n"
     ]
    }
   ],
   "source": [
    "tuples  = (1,2,3)\n",
    "\n",
    "print(type(tuples))\n",
    "\n",
    "k = (5,6,7)\n",
    "\n",
    "print(tuples+k) # combines the two tuples\n"
   ]
  },
  {
   "cell_type": "code",
   "execution_count": 43,
   "metadata": {},
   "outputs": [
    {
     "name": "stdout",
     "output_type": "stream",
     "text": [
      "True\n"
     ]
    }
   ],
   "source": [
    "print(1 in tuples)"
   ]
  },
  {
   "cell_type": "code",
   "execution_count": 49,
   "metadata": {},
   "outputs": [
    {
     "name": "stdout",
     "output_type": "stream",
     "text": [
      "20\n"
     ]
    }
   ],
   "source": [
    "# function in python\n",
    "\n",
    "def sum(a,b):\n",
    "    return a+b\n",
    "x=10\n",
    "y=10\n",
    "\n",
    "print(sum(x,y))"
   ]
  },
  {
   "cell_type": "code",
   "execution_count": 55,
   "metadata": {},
   "outputs": [
    {
     "name": "stdout",
     "output_type": "stream",
     "text": [
      "<class 'tuple'>\n",
      "(30, 40)\n"
     ]
    },
    {
     "data": {
      "text/plain": [
       "10"
      ]
     },
     "execution_count": 55,
     "metadata": {},
     "output_type": "execute_result"
    }
   ],
   "source": [
    "# give variable number of the inputs to the function\n",
    "def sum_variable(a,b,*more):\n",
    "    print(type(more))\n",
    "    print(more)\n",
    "    return 10\n",
    "sum_variable(10,20,30,40)"
   ]
  },
  {
   "cell_type": "code",
   "execution_count": 62,
   "metadata": {},
   "outputs": [
    {
     "name": "stdout",
     "output_type": "stream",
     "text": [
      "<class 'list'>\n",
      "[1, 2, 3, 4]\n",
      "[0, 1, 2, 3, 4, 5, 6, 7, 8, 9]\n",
      "[0, 1, 4, 9, 16, 25, 36, 49, 64, 81]\n"
     ]
    }
   ],
   "source": [
    "# lists in python\n",
    "a= [1,2,3,4]\n",
    "print(type(a))\n",
    "print(a)\n",
    "\n",
    "b = [i for i in range(10)]\n",
    "print(b)\n",
    "c = [i*i for i in range(10)]\n",
    "print(c)"
   ]
  },
  {
   "cell_type": "code",
   "execution_count": 80,
   "metadata": {},
   "outputs": [
    {
     "name": "stdout",
     "output_type": "stream",
     "text": [
      "1 2 3 4\n",
      "[1, 2, 3, 4]\n"
     ]
    }
   ],
   "source": [
    "# take input from the user in the list \n",
    "str = [int(x) for x in  input().strip().split(\" \")]\n",
    "print(str)"
   ]
  },
  {
   "cell_type": "code",
   "execution_count": 85,
   "metadata": {},
   "outputs": [
    {
     "name": "stdout",
     "output_type": "stream",
     "text": [
      "[1, 2, 3, 4, 4]\n",
      "[1, 23, 2, 3, 4, 4]\n"
     ]
    }
   ],
   "source": [
    "list1 = [1,2,3,4]\n",
    "\n",
    "list1.append(4)# append to the end \n",
    "print(list1)\n",
    "\n",
    "list1.insert(1,23)# insert at the specific position\n",
    "\n",
    "print(list1)"
   ]
  },
  {
   "cell_type": "code",
   "execution_count": 89,
   "metadata": {},
   "outputs": [
    {
     "name": "stdout",
     "output_type": "stream",
     "text": [
      "[1, 2, 3, 4, 5, 6, 7, 8]\n"
     ]
    },
    {
     "data": {
      "text/plain": [
       "8"
      ]
     },
     "execution_count": 89,
     "metadata": {},
     "output_type": "execute_result"
    }
   ],
   "source": [
    "l1 = [1,2,3,4]\n",
    "l2 =[5,6,7,8]\n",
    "l1.extend(l2)\n",
    "\n",
    "print(l1)\n",
    "\n",
    "l1.pop() # removes from the end pop(index) can also be done "
   ]
  },
  {
   "cell_type": "code",
   "execution_count": 94,
   "metadata": {},
   "outputs": [
    {
     "name": "stdout",
     "output_type": "stream",
     "text": [
      "{23: 24}\n"
     ]
    }
   ],
   "source": [
    "# dictionaries an interesting topic \n",
    "# maps in c++ key value pair\n",
    "\n",
    "d ={}\n",
    "d[23] =24\n",
    "print(d) # immutable keys are present in the dictionaries "
   ]
  },
  {
   "cell_type": "code",
   "execution_count": 96,
   "metadata": {},
   "outputs": [
    {
     "name": "stdout",
     "output_type": "stream",
     "text": [
      "23\n"
     ]
    }
   ],
   "source": [
    "# we can't put the  list in the dictionary\n",
    "for i in d:\n",
    "    print(i) \n",
    "    print(d[i]) # gives all the keys "
   ]
  }
 ],
 "metadata": {
  "kernelspec": {
   "display_name": "Python 3",
   "language": "python",
   "name": "python3"
  },
  "language_info": {
   "codemirror_mode": {
    "name": "ipython",
    "version": 3
   },
   "file_extension": ".py",
   "mimetype": "text/x-python",
   "name": "python",
   "nbconvert_exporter": "python",
   "pygments_lexer": "ipython3",
   "version": "3.6.8"
  }
 },
 "nbformat": 4,
 "nbformat_minor": 2
}
