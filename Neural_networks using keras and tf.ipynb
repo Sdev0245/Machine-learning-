{
 "cells": [
  {
   "cell_type": "code",
   "execution_count": 35,
   "metadata": {},
   "outputs": [
    {
     "data": {
      "text/plain": [
       "array([[0.7180622 ],\n",
       "       [0.72534887],\n",
       "       [0.81429856],\n",
       "       [0.81972245]])"
      ]
     },
     "execution_count": 35,
     "metadata": {},
     "output_type": "execute_result"
    }
   ],
   "source": [
    "# neural network layers decisions\n",
    "\n",
    "#1.how many hidden layers to use \n",
    "#2.how many units in the hidden layers to use\n",
    "#3.which activation function to use \n",
    "# implementation of the basic neural network \n",
    "# forward propagation\n",
    "\n",
    "\n",
    "\n",
    "import numpy as np\n",
    "\n",
    "x = np.array([[0,0],[0,1],[1,0],[1,1]])\n",
    "y = np.array([0,0,0,1])\n",
    "\n",
    "def sig(z):\n",
    "    return 1/(1+np.exp(-z))\n",
    "bias =np.random.random(1) # 1 row  and 1 col\n",
    "\n",
    "weights = 2*np.random.random((2,1))-1 # define 2*1 random array \n",
    "weights,bias\n",
    "output_and = sig(np.dot(x,weights)+bias)\n",
    "output_and\n"
   ]
  },
  {
   "cell_type": "code",
   "execution_count": 34,
   "metadata": {},
   "outputs": [],
   "source": [
    "# now adding the hidden layer to the neural network\n",
    "\n",
    "input_layer = np.array([[0,0],[1,0],[0,1],[1,1]])\n",
    "weights_ip_hid_layers = 2*np.random.random((2,2))-1\n",
    "weight_op =2*np.random.random((2*1))-1\n",
    "bias = 1\n",
    "\n",
    "act_op =np.array([0,1,1,0])\n",
    "\n",
    "op = sig(np.dot(input_layer,weights_ip_hid_layers)+bias)\n",
    "\n",
    "act_op = sig(np.dot(op,weight_op)+bias)"
   ]
  },
  {
   "cell_type": "code",
   "execution_count": 33,
   "metadata": {},
   "outputs": [],
   "source": [
    "def derivative_sigmoid(z):\n",
    "    return 1/(1+np.exp(-z))"
   ]
  },
  {
   "cell_type": "code",
   "execution_count": 57,
   "metadata": {},
   "outputs": [],
   "source": [
    "# implementation of the back propagttion with neural networks\n",
    "for epochs in range(1000):\n",
    " learning_rate = 0.01\n",
    " x_input =np.array([[0,0],[1,0],[0,1],[1,1]])\n",
    " y_act =np.array([0,1,1,0])\n",
    " weights = 2*np.random.random((2,1))-1\n",
    " bias =1\n",
    " y_pred = sig(np.dot(x_input,weights)+bias)\n",
    " first_term = y_pred -y_act\n",
    " second_term = derivative_sigmoid(sig(np.dot(x_input,weights)+bias))\n",
    " change = np.array([[0,0],[0,0]])\n",
    "\n",
    "#  for i in range(2):\n",
    "#      for j in range(4):\n",
    "#          change[i][0] += first_term[j][0]*second_term[j][0]*x_input[j][i]\n",
    "# simply apply transpose\n",
    " change = np.dot(x_input.T,first_term*second_term)\n",
    "        \n",
    " weights= weights - learning_rate * change\n",
    " bias =0.0\n",
    " "
   ]
  },
  {
   "cell_type": "code",
   "execution_count": null,
   "metadata": {},
   "outputs": [],
   "source": []
  }
 ],
 "metadata": {
  "kernelspec": {
   "display_name": "Python 3",
   "language": "python",
   "name": "python3"
  },
  "language_info": {
   "codemirror_mode": {
    "name": "ipython",
    "version": 3
   },
   "file_extension": ".py",
   "mimetype": "text/x-python",
   "name": "python",
   "nbconvert_exporter": "python",
   "pygments_lexer": "ipython3",
   "version": "3.6.8"
  }
 },
 "nbformat": 4,
 "nbformat_minor": 2
}
